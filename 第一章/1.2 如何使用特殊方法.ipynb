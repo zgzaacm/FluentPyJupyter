{
 "cells": [
  {
   "cell_type": "markdown",
   "metadata": {},
   "source": [
    "特殊方法的存在是被python解释器调用的，你并不需要自己调用他们。\n",
    "\n",
    "Python内置的类型，CPython会抄近路，直接返回PyVarObject里的ob_size属性。是C结构体的长度，很快可以读取。\n",
    "\n",
    "for i in x:  背后是iter（x） 再背后是 x.item()\n",
    "\n",
    "## 1.2.1模拟数值类型"
   ]
  },
  {
   "cell_type": "code",
   "execution_count": 29,
   "metadata": {
    "collapsed": true
   },
   "outputs": [],
   "source": [
    "from math import hypot\n",
    "#hypot 计算两个数平方和并开跟\n",
    "\n",
    "class Vector:\n",
    "    def __init__(self, x=0, y=0):\n",
    "        self.x=x\n",
    "        self.y=y\n",
    "    \n",
    "    #返回用来print的字符串 否则为《Vector object at 0x...》\n",
    "    def __repr__(self):\n",
    "        return 'Vector(%r,%r)'%(self.x, self.y)\n",
    "    \n",
    "    #__str__  这个是再str()中使用 \n",
    "    \n",
    "    #给bs()\n",
    "    def __abs__(self):\n",
    "        return hypot(self.x,self.y)\n",
    "    \n",
    "    #自定义的布尔值 没有这个会去找__len__\n",
    "    def __bool__(self):\n",
    "        return bool(self.x or self.y)\n",
    "    \n",
    "    #相当于+的重载\n",
    "    def __add__(self,other):\n",
    "        x=self.x+other.x\n",
    "        y=self.y+other.y\n",
    "        return Vector(x,y)\n",
    "    \n",
    "    def __mul__(self,scalar):\n",
    "        return Vector(self.x*scalar,self.y*scalar)\n",
    "    "
   ]
  },
  {
   "cell_type": "code",
   "execution_count": 30,
   "metadata": {
    "collapsed": true
   },
   "outputs": [],
   "source": [
    "a=Vector(0,0)\n",
    "b=Vector(1,2)"
   ]
  },
  {
   "cell_type": "code",
   "execution_count": 31,
   "metadata": {},
   "outputs": [],
   "source": [
    "if a:\n",
    "    print(1)"
   ]
  },
  {
   "cell_type": "code",
   "execution_count": 32,
   "metadata": {
    "collapsed": true
   },
   "outputs": [],
   "source": [
    "a=a+b"
   ]
  },
  {
   "cell_type": "code",
   "execution_count": 33,
   "metadata": {},
   "outputs": [
    {
     "data": {
      "text/plain": [
       "Vector(1,2)"
      ]
     },
     "execution_count": 33,
     "metadata": {},
     "output_type": "execute_result"
    }
   ],
   "source": [
    "a"
   ]
  },
  {
   "cell_type": "code",
   "execution_count": 35,
   "metadata": {},
   "outputs": [
    {
     "name": "stdout",
     "output_type": "stream",
     "text": [
      "Vector(1,2)\n"
     ]
    }
   ],
   "source": [
    "print(a)"
   ]
  },
  {
   "cell_type": "code",
   "execution_count": 34,
   "metadata": {},
   "outputs": [
    {
     "data": {
      "text/plain": [
       "Vector(3,6)"
      ]
     },
     "execution_count": 34,
     "metadata": {},
     "output_type": "execute_result"
    }
   ],
   "source": [
    "a*3"
   ]
  },
  {
   "cell_type": "markdown",
   "metadata": {},
   "source": [
    "特殊方法概览：\n",
    "https://docs.python.org/3/reference/datamodel.html"
   ]
  },
  {
   "cell_type": "code",
   "execution_count": null,
   "metadata": {
    "collapsed": true
   },
   "outputs": [],
   "source": []
  }
 ],
 "metadata": {
  "kernelspec": {
   "display_name": "Python 3",
   "language": "python",
   "name": "python3"
  },
  "language_info": {
   "codemirror_mode": {
    "name": "ipython",
    "version": 3
   },
   "file_extension": ".py",
   "mimetype": "text/x-python",
   "name": "python",
   "nbconvert_exporter": "python",
   "pygments_lexer": "ipython3",
   "version": "3.6.3"
  }
 },
 "nbformat": 4,
 "nbformat_minor": 2
}
