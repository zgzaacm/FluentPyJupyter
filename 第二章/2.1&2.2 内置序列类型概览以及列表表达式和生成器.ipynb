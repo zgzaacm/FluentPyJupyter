{
 "cells": [
  {
   "cell_type": "markdown",
   "metadata": {},
   "source": [
    "ABC语言是python对用户友好的根源。"
   ]
  },
  {
   "cell_type": "markdown",
   "metadata": {},
   "source": [
    "*容器序列*：list tuple collections.deque\n",
    "\n",
    "存放的是任意类型对象的引用\n",
    "\n",
    "*扁平序列*：str,bytes,bytearray,memoryview,array.array\n",
    "\n",
    "存放的是值不是引用"
   ]
  },
  {
   "cell_type": "markdown",
   "metadata": {},
   "source": [
    "可变序列(MutableSequence)：list bytearray array。array collections.deque memoryview\n",
    "\n",
    "不可变序列(Sequence)：tuple str bytes\n",
    "\n",
    "不可变序列方法只有index和count\n",
    "\n",
    "可变继承了不可变，并扩展了insert append reverse extend pop remove方法\n",
    "\n",
    "pop(i) --对象方法：删除索引为i的项，并返回它\n",
    "\n",
    "remove(x) --对象方法：删除第一次出现的元素x\n",
    "\n",
    "index(x) --对象方法：返回数组中x的最小下标"
   ]
  },
  {
   "cell_type": "markdown",
   "metadata": {},
   "source": [
    "# 列表推导（list comprehensive-简称listcomps）"
   ]
  },
  {
   "cell_type": "code",
   "execution_count": 21,
   "metadata": {},
   "outputs": [
    {
     "data": {
      "text/plain": [
       "97"
      ]
     },
     "execution_count": 21,
     "metadata": {},
     "output_type": "execute_result"
    }
   ],
   "source": [
    "ord('a')"
   ]
  },
  {
   "cell_type": "markdown",
   "metadata": {},
   "source": [
    "python会忽略代码中[] {} ()的换行 可以不用续行符\\"
   ]
  },
  {
   "cell_type": "markdown",
   "metadata": {},
   "source": [
    "** python3中列表推导里的变量只是局部变量 不会覆盖上层**"
   ]
  },
  {
   "cell_type": "markdown",
   "metadata": {},
   "source": [
    "## filter和map与列表推导比较"
   ]
  },
  {
   "cell_type": "code",
   "execution_count": 22,
   "metadata": {},
   "outputs": [
    {
     "name": "stdout",
     "output_type": "stream",
     "text": [
      "[99, 100]\n",
      "[99, 100]\n"
     ]
    }
   ],
   "source": [
    "symbols = 'abcd'\n",
    "ba=[ord(s) for s in symbols if ord(s)>ord('b')]\n",
    "print(ba)\n",
    "ba=list(filter(lambda c:c>ord('b'),map(ord,symbols))) #fliter和map都是生成器\n",
    "print(ba)"
   ]
  },
  {
   "cell_type": "markdown",
   "metadata": {},
   "source": [
    "## 笛卡尔积"
   ]
  },
  {
   "cell_type": "code",
   "execution_count": 23,
   "metadata": {
    "collapsed": true
   },
   "outputs": [],
   "source": [
    "colors = ['black','white']\n",
    "sizes = ['S','M','L']\n",
    "\n",
    "t = [(color,size) for color in colors if color != 'black' for size in sizes if size!='S']\n",
    "\n",
    "#等于双层循环 先colors 再sizes"
   ]
  },
  {
   "cell_type": "code",
   "execution_count": 24,
   "metadata": {},
   "outputs": [
    {
     "data": {
      "text/plain": [
       "[('white', 'M'), ('white', 'L')]"
      ]
     },
     "execution_count": 24,
     "metadata": {},
     "output_type": "execute_result"
    }
   ],
   "source": [
    "t"
   ]
  },
  {
   "cell_type": "markdown",
   "metadata": {},
   "source": [
    "## 生成器表达式"
   ]
  },
  {
   "cell_type": "markdown",
   "metadata": {},
   "source": [
    "用来初始化元组，数组等其他类型\n",
    "\n",
    "遵守迭代器协议，可以逐个产生元素"
   ]
  },
  {
   "cell_type": "code",
   "execution_count": 25,
   "metadata": {},
   "outputs": [
    {
     "data": {
      "text/plain": [
       "(97, 98, 99)"
      ]
     },
     "execution_count": 25,
     "metadata": {},
     "output_type": "execute_result"
    }
   ],
   "source": [
    "# 如果生成器是函数唯一参数 则不需要括号\n",
    "tuple(ord(s) for s in \"abc\")"
   ]
  },
  {
   "cell_type": "code",
   "execution_count": 36,
   "metadata": {},
   "outputs": [
    {
     "data": {
      "text/plain": [
       "array('u', '张国珍')"
      ]
     },
     "execution_count": 36,
     "metadata": {},
     "output_type": "execute_result"
    }
   ],
   "source": [
    "#两个参数就需要\n",
    "import array\n",
    "#array.array(typecode,[initializer]) --typecode:元素类型代码；initializer:初始化器，若数组为空，则省略初始化器\n",
    "# i I为整数 b B为字符 u为unicode\n",
    "array.array('I',(ord(s) for s in \"abc\"))\n",
    "a=array.array('u',(s for s in \"张国珍\"))"
   ]
  },
  {
   "cell_type": "code",
   "execution_count": 31,
   "metadata": {},
   "outputs": [
    {
     "name": "stdout",
     "output_type": "stream",
     "text": [
      "black S\n",
      "black M\n",
      "black L\n",
      "white S\n",
      "white M\n",
      "white L\n"
     ]
    }
   ],
   "source": [
    "# 笛卡尔积\n",
    "colors = ['black','white']\n",
    "sizes = ['S','M','L']\n",
    "\n",
    "for t in ('%s %s' % (c,s) for c in colors for s in sizes):\n",
    "    print(t)"
   ]
  },
  {
   "cell_type": "code",
   "execution_count": null,
   "metadata": {
    "collapsed": true
   },
   "outputs": [],
   "source": []
  },
  {
   "cell_type": "code",
   "execution_count": null,
   "metadata": {
    "collapsed": true
   },
   "outputs": [],
   "source": []
  },
  {
   "cell_type": "code",
   "execution_count": null,
   "metadata": {
    "collapsed": true
   },
   "outputs": [],
   "source": []
  }
 ],
 "metadata": {
  "kernelspec": {
   "display_name": "Python 3",
   "language": "python",
   "name": "python3"
  },
  "language_info": {
   "codemirror_mode": {
    "name": "ipython",
    "version": 3
   },
   "file_extension": ".py",
   "mimetype": "text/x-python",
   "name": "python",
   "nbconvert_exporter": "python",
   "pygments_lexer": "ipython3",
   "version": "3.6.3"
  }
 },
 "nbformat": 4,
 "nbformat_minor": 2
}
